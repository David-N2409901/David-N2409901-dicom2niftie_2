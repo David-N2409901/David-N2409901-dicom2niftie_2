{
 "cells": [
  {
   "cell_type": "markdown",
   "id": "80ec0dbe-0348-470e-94cc-7ab90b596302",
   "metadata": {},
   "source": [
    "Converting dicom files into nifties\n"
   ]
  },
  {
   "cell_type": "code",
   "execution_count": 1,
   "id": "58887eb2-7881-45c2-bfce-9de344805f5d",
   "metadata": {},
   "outputs": [],
   "source": [
    "from glob import glob\n",
    "import shutil\n",
    "import os\n",
    "import dicom2nifti\n",
    "import numpy as np"
   ]
  },
  {
   "cell_type": "code",
   "execution_count": 2,
   "id": "6c1e449e-0030-439c-8e24-0a9407da838e",
   "metadata": {},
   "outputs": [
    {
     "name": "stdout",
     "output_type": "stream",
     "text": [
      "C:/Users/NBL240811/Desktop/Mandibular_nerves_segmentation/data/images_dcm\\image_20\n",
      "C:/Users/NBL240811/Desktop/Mandibular_nerves_segmentation/data/images_dcm\\image_21\n",
      "C:/Users/NBL240811/Desktop/Mandibular_nerves_segmentation/data/images_dcm\\image_22\n",
      "C:/Users/NBL240811/Desktop/Mandibular_nerves_segmentation/data/images_dcm\\image_23\n",
      "C:/Users/NBL240811/Desktop/Mandibular_nerves_segmentation/data/images_dcm\\image_24\n"
     ]
    }
   ],
   "source": [
    "\n",
    "in_path_images = \"C:/Users/NBL240811/Desktop/Mandibular_nerves_segmentation/data/images_dcm/*\"\n",
    "\n",
    "#create new folder with the name images_nii to sore all converted ni\n",
    "out_path_images = 'C:/Users/NBL240811/Desktop/Mandibular_nerves_segmentation/data/images_nii'\n",
    "list_images = glob(in_path_images)\n",
    "print(\"\\n\".join(list_images))"
   ]
  },
  {
   "cell_type": "code",
   "execution_count": 3,
   "id": "6908bef4-b1b1-4679-a100-739398821fd4",
   "metadata": {},
   "outputs": [],
   "source": [
    "\n",
    "for patient in list_images:\n",
    "    patient_name = os.path.basename(os.path.normpath(patient))\n",
    "    dicom2nifti.dicom_series_to_nifti(patient, os.path.join(out_path_images, patient_name + '.nii.gz'))\n"
   ]
  },
  {
   "cell_type": "code",
   "execution_count": null,
   "id": "1b03cd80-1d76-416d-a640-d757016cd4f4",
   "metadata": {},
   "outputs": [],
   "source": []
  }
 ],
 "metadata": {
  "kernelspec": {
   "display_name": "Python 3 (ipykernel)",
   "language": "python",
   "name": "python3"
  },
  "language_info": {
   "codemirror_mode": {
    "name": "ipython",
    "version": 3
   },
   "file_extension": ".py",
   "mimetype": "text/x-python",
   "name": "python",
   "nbconvert_exporter": "python",
   "pygments_lexer": "ipython3",
   "version": "3.8.20"
  }
 },
 "nbformat": 4,
 "nbformat_minor": 5
}
